{
  "nbformat": 4,
  "nbformat_minor": 0,
  "metadata": {
    "colab": {
      "provenance": [],
      "authorship_tag": "ABX9TyMA380H04mjF4uzLLncOBiL",
      "include_colab_link": true
    },
    "kernelspec": {
      "name": "python3",
      "display_name": "Python 3"
    },
    "language_info": {
      "name": "python"
    }
  },
  "cells": [
    {
      "cell_type": "markdown",
      "metadata": {
        "id": "view-in-github",
        "colab_type": "text"
      },
      "source": [
        "<a href=\"https://colab.research.google.com/github/g40rgeLE/ml_from_scratch/blob/main/Logistics_Regression.ipynb\" target=\"_parent\"><img src=\"https://colab.research.google.com/assets/colab-badge.svg\" alt=\"Open In Colab\"/></a>"
      ]
    },
    {
      "cell_type": "markdown",
      "source": [
        "#Logisits Regression#\n",
        "$z = (\\vec{\\omega}, \\vec{x})$, $x_0 = 1$ $∀\\vec{x}$.\\\n",
        "То, что мы записали здесь под z называтся логитом (абсолютное значение). Для перевода логита в относительную величину, смысл которой вероятность принадлежности к положительному классу, нужно воспользоваться функцией, которая называется **сигмоидой**:\n",
        "$$\\sigma(z) = \\frac{1}{1 + e^{-z}}$$"
      ],
      "metadata": {
        "id": "7HyK7qjlVj1L"
      }
    },
    {
      "cell_type": "code",
      "execution_count": null,
      "metadata": {
        "colab": {
          "base_uri": "https://localhost:8080/"
        },
        "id": "OomXBxORUWaG",
        "outputId": "c8613edb-7df1-477a-bda2-31949977ffc8"
      },
      "outputs": [
        {
          "output_type": "stream",
          "name": "stdout",
          "text": [
            "Setup complete\n"
          ]
        }
      ],
      "source": [
        "import numpy as np\n",
        "import pandas as pd\n",
        "\n",
        "import matplotlib.pyplot as plt\n",
        "%matplotlib inline\n",
        "import seaborn as sns\n",
        "print('Setup complete')"
      ]
    },
    {
      "cell_type": "code",
      "source": [
        "def sigmoid(z_min: float = -5., z_max: float = 5, dz: float = 1e-3):\n",
        "    z_arr = np.linspace(z_min, z_max, int((z_max - z_min) / dz) + 1)\n",
        "    sigmoid_value = 1 / (1 + np.exp(-z_arr))\n",
        "    return sigmoid_value, z_arr\n",
        "\n",
        "f, z = sigmoid(-7, 7, 1e-2)\n",
        "\n",
        "plt.figure(figsize=(12, 6))\n",
        "plt.title('Sigmoid')\n",
        "plt.xlabel('z')\n",
        "plt.ylabel(r'$\\sigma$')\n",
        "\n",
        "sns.set_style('darkgrid')\n",
        "sns.lineplot(x=z, y=f)"
      ],
      "metadata": {
        "colab": {
          "base_uri": "https://localhost:8080/",
          "height": 582
        },
        "id": "1YKFt2CGXKCV",
        "outputId": "780cdb5f-5402-4925-e3e7-6206fabdb5c9"
      },
      "execution_count": null,
      "outputs": [
        {
          "output_type": "execute_result",
          "data": {
            "text/plain": [
              "<Axes: title={'center': 'Sigmoid'}, xlabel='z', ylabel='$\\\\sigma$'>"
            ]
          },
          "metadata": {},
          "execution_count": 3
        },
        {
          "output_type": "display_data",
          "data": {
            "text/plain": [
              "<Figure size 1200x600 with 1 Axes>"
            ],
            "image/png": "[encoded data removed]"
          },
          "metadata": {}
        }
      ]
    },
    {
      "cell_type": "markdown",
      "source": [
        "Как видим, для сигмоиды справедливы два свойства, которые нам необходимы для адекватной классификации:\n",
        "\n",
        "* В отрицательной области получаем вероятность положительного класса меньше 0.5, т.е. объект принадлежит отрицательному классу;\n",
        "* Чем больше расстояние от точки до разделяющей гиперплоскости, тем больше уверенности в предсказании модели."
      ],
      "metadata": {
        "id": "6jW8sv_lYoQJ"
      }
    },
    {
      "cell_type": "markdown",
      "source": [
        "##Функция потерь##\n",
        "Для решения задачи логистической регрессии используется функция потерь Binary Cross Entropy:\n",
        "$$Loss = -\\frac{1}{N} \\sum_{i = 1}^{N} [y_i log(p_i) + (1-y_i) log(1-p_i)]$$\n",
        "Вычислим градиент от функции потерь:\n",
        "$$∇(Loss) = \\frac{1}{N} (\\hat{Y} - Y) X$$"
      ],
      "metadata": {
        "id": "qDigMbBUgtXp"
      }
    },
    {
      "cell_type": "code",
      "source": [
        "#Logistics Regression class\n",
        "\n",
        "class MyLogReg():\n",
        "\n",
        "    def __init__(\n",
        "            self,\n",
        "            n_iter: int = 10,\n",
        "            learning_rate: float = 0.1,\n",
        "            metric: str = None,\n",
        "            reg: str = None,\n",
        "            l1_coef: float = 0.,\n",
        "            l2_coef: float = 0.,\n",
        "            sgd_sample = None,\n",
        "            random_state: int = 42\n",
        "            ):\n",
        "\n",
        "        self.n_iter = n_iter\n",
        "        self.learning_rate = learning_rate\n",
        "        #accuracy, precision, recall, f1, roc_auc\n",
        "        self.metric = metric\n",
        "        #l1, l2, elasticnet\n",
        "        self.reg = reg\n",
        "        self.l1_coef = l1_coef\n",
        "        self.l2_coef = l2_coef\n",
        "        self.sgd_sample = sgd_sample\n",
        "        self.random_state = random_state\n",
        "\n",
        "        self.score = None\n",
        "        self.weights = None\n",
        "\n",
        "    def __str__(self):\n",
        "        params = [f'{key}={value}' for key, value in self.__dict__.items()]\n",
        "        return f'MyLogReg class: ' + ', '.join(params)\n",
        "\n",
        "    def __repr__(self):\n",
        "        params = [f'{key}={value}' for key, value in self.__dict__.items()]\n",
        "        return f'MyLogReg class: ' + ', '.join(params)\n",
        "\n",
        "    @staticmethod\n",
        "    def _accuracy(y_true: np.array, y_proba: np.array):\n",
        "        N = y_true.shape[0]\n",
        "        y_pred = np.ones(N, dtype=np.int64) * (y_proba > 0.5)\n",
        "        return (y_true == y_pred).sum() / y_true.shape[0]\n",
        "\n",
        "    @staticmethod\n",
        "    def _precision(y_true: np.array, y_proba: np.array):\n",
        "        N = y_true.shape[0]\n",
        "        y_pred = np.ones(N, dtype=np.int64) * (y_proba > 0.5)\n",
        "        tp = (y_true * y_pred).sum()\n",
        "        fp = ((1 - y_true) * y_pred).sum()\n",
        "        return tp / (tp + fp)\n",
        "\n",
        "    @staticmethod\n",
        "    def _recall(y_true: np.array, y_proba: np.array):\n",
        "        N = y_true.shape[0]\n",
        "        y_pred = np.ones(N, dtype=np.int64) * (y_proba > 0.5)\n",
        "        tp = (y_true * y_pred).sum()\n",
        "        fn = (y_true * (1 - y_pred)).sum()\n",
        "        return tp / (tp + fn)\n",
        "\n",
        "    @staticmethod\n",
        "    def _f1(y_true: np.array, y_proba: np.array):\n",
        "        recall = MyLogReg._recall(y_true, y_proba)\n",
        "        precision = MyLogReg._precision(y_true, y_proba)\n",
        "        return 2 * recall * precision / (recall + precision)\n",
        "\n",
        "    @staticmethod\n",
        "    def _roc_auc(y_true: np.array, y_proba: np.array):\n",
        "        double_sum = 0\n",
        "        P = y_true.sum()\n",
        "        N = (1 - y_true).sum()\n",
        "        for i in range(y_true.shape[0]):\n",
        "            for j in range(y_true.shape[0]):\n",
        "                double_sum += (y_true[i] < y_true[j]) * \\\n",
        "                 ((y_proba[i] < y_proba[j]) + 0.5 * (y_proba[i] == y_proba[j]))\n",
        "        return 1/(P * N) * double_sum\n",
        "\n",
        "    def l1(self):\n",
        "        loss_reg = self.l1_coef * np.abs(self.weights).sum()\n",
        "        grad_reg = self.l1_coef * np.sign(self.weights)\n",
        "        return loss_reg, grad_reg\n",
        "\n",
        "    def l2(self):\n",
        "        loss_reg = self.l2_coef * np.power(self.weights, 2).sum()\n",
        "        grad_reg = self.l2_coef * 2 * self.weights\n",
        "        return loss_reg, grad_reg\n",
        "\n",
        "    def elasticnet(self):\n",
        "        l1_loss, l1_grad = self.l1()\n",
        "        l2_loss, l2_grad = self.l2()\n",
        "        return l1_loss + l2_loss, l1_grad + l2_grad\n",
        "\n",
        "    @staticmethod\n",
        "    def _loss_calc_(y_true: np.array, y_pred: np.array):\n",
        "        N = y_true.shape[0]\n",
        "        eps = 1e-15\n",
        "\n",
        "        #Binary Cross Entropy\n",
        "        loss = -1 / N * (y_true * np.log(y_pred + eps) + (1 - y_true) * np.log(1 - y_pred + eps)).sum()\n",
        "        return loss\n",
        "\n",
        "    @staticmethod\n",
        "    def _grad_calc_(y_true: np.array, y_pred: np.array, X: np.array, idx: np.array):\n",
        "        N = y_true[idx].shape[0]\n",
        "\n",
        "        #Gradient of LogLoss\n",
        "        grad = 1 / N *  (y_pred[idx] - y_true[idx]) @ X[idx, :]\n",
        "        return grad\n",
        "\n",
        "    def get_coef(self):\n",
        "        return self.weights[1:]\n",
        "\n",
        "    def get_best_score(self):\n",
        "        return self.score\n",
        "\n",
        "    def fit(self, X: pd.DataFrame, y: pd.Series, verbose=False):\n",
        "        np.random.seed(self.random_state)\n",
        "        N, M = X.shape\n",
        "        X_train = X.to_numpy()\n",
        "        y_train = y.to_numpy()\n",
        "        X_train = np.concatenate((np.ones((N, 1)), X_train), axis=1)\n",
        "\n",
        "        self.weights = np.ones(M+1)\n",
        "\n",
        "        for i in range(1, self.n_iter + 1):\n",
        "            idx_batch = np.arange(0, N)\n",
        "            if (self.sgd_sample):\n",
        "                if isinstance(self.sgd_sample, int):\n",
        "                    idx_batch = np.random.choice(idx_batch, self.sgd_sample,\n",
        "                                                replace=False)\n",
        "                if isinstance(self.sgd_sample, float):\n",
        "                    idx_batch = np.random.choice(idx_batch,\n",
        "                                                round(N * self.sgd_sample),\n",
        "                                                replace=False)\n",
        "            z = X_train @ self.weights\n",
        "            y_hat = 1 / (1 + np.exp(-z))\n",
        "\n",
        "            loss_reg, grad_reg = 0., 0.\n",
        "            if self.reg:\n",
        "                loss_reg, grad_reg = getattr(self, self.reg)()\n",
        "\n",
        "            loss = self._loss_calc_(y_train, y_hat) + loss_reg\n",
        "            grad = self._grad_calc_(y_train, y_hat, X_train, idx_batch) + grad_reg\n",
        "\n",
        "            if isinstance(self.learning_rate, (int, float)):\n",
        "                self.weights -= self.learning_rate * grad\n",
        "            else:\n",
        "                self.weights -= self.learning_rate(i) * grad\n",
        "\n",
        "            #logs\n",
        "            if verbose and i % verbose == 0:\n",
        "                if self.metric:\n",
        "                    self.score = getattr(self, '_' + self.metric)(y_train, y_hat)\n",
        "                    print(f'{i} | loss: {loss} | {self.metric}: {self.score}')\n",
        "                else:\n",
        "                    print(f'{i} | loss: {loss}')\n",
        "\n",
        "        z = X_train @ self.weights\n",
        "        y_hat = 1 / (1 + np.exp(-z))\n",
        "        if self.metric:\n",
        "            self.score = getattr(self, '_' + self.metric)(y_train, y_hat)\n",
        "\n",
        "\n",
        "    def predict_proba(self, X: np.array):\n",
        "        N, _ = X.shape\n",
        "        X_train = X.to_numpy()\n",
        "        X_train = np.concatenate((np.ones((N, 1)), X_train), axis=1)\n",
        "\n",
        "        z = X_train @ self.weights\n",
        "        y_proba = 1 / (1 + np.exp(-z))\n",
        "        return y_proba\n",
        "\n",
        "    def predict(self, X: np.array):\n",
        "        N, _ = X.shape\n",
        "        y_proba = self.predict_proba(X)\n",
        "        y_pred = np.ones(N, dtype=np.int64) * (y_proba > 0.5)\n",
        "        return y_pred"
      ],
      "metadata": {
        "id": "oKZn_TDeYeR7"
      },
      "execution_count": null,
      "outputs": []
    },
    {
      "cell_type": "code",
      "source": [
        "from sklearn.datasets import make_classification\n",
        "\n",
        "X, y = make_classification(n_samples=1000, n_features=14, n_informative=10, random_state=42)\n",
        "X = pd.DataFrame(X)\n",
        "y = pd.Series(y)\n",
        "X.columns = [f'col_{col}' for col in X.columns]"
      ],
      "metadata": {
        "id": "YnGzaHr3vCFh"
      },
      "execution_count": null,
      "outputs": []
    },
    {
      "cell_type": "code",
      "source": [
        "log_model = MyLogReg(n_iter = 1000, learning_rate=0.1)\n",
        "log_model.fit(X, y, verbose = 100)"
      ],
      "metadata": {
        "colab": {
          "base_uri": "https://localhost:8080/"
        },
        "id": "dE0QyqkIggZP",
        "outputId": "b0892b85-c268-4982-b64a-9e515227bbf5"
      },
      "execution_count": null,
      "outputs": [
        {
          "output_type": "stream",
          "name": "stdout",
          "text": [
            "start | loss: 3.673688687661553\n",
            "100 | loss: 0.4137804063166351\n",
            "200 | loss: 0.36369005059686427\n",
            "300 | loss: 0.35728756553070856\n",
            "400 | loss: 0.35616306471318127\n",
            "500 | loss: 0.3558553363014199\n",
            "600 | loss: 0.35575208841645406\n",
            "700 | loss: 0.35571499933139594\n",
            "800 | loss: 0.3557013382783982\n",
            "900 | loss: 0.3556962512551962\n",
            "1000 | loss: 0.35569434655695503\n"
          ]
        }
      ]
    },
    {
      "cell_type": "code",
      "source": [
        "log_model.predict(X).sum()"
      ],
      "metadata": {
        "colab": {
          "base_uri": "https://localhost:8080/"
        },
        "id": "xHx3RtT0hJNH",
        "outputId": "0ec603bd-2bac-4b4c-db98-1cd9f7d3ced3"
      },
      "execution_count": null,
      "outputs": [
        {
          "output_type": "execute_result",
          "data": {
            "text/plain": [
              "515"
            ]
          },
          "metadata": {},
          "execution_count": 85
        }
      ]
    }
  ]
}