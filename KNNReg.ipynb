{
  "nbformat": 4,
  "nbformat_minor": 0,
  "metadata": {
    "colab": {
      "provenance": [],
      "authorship_tag": "ABX9TyO5UlCfqVJ+aIkSZp4qrPao",
      "include_colab_link": true
    },
    "kernelspec": {
      "name": "python3",
      "display_name": "Python 3"
    },
    "language_info": {
      "name": "python"
    }
  },
  "cells": [
    {
      "cell_type": "markdown",
      "metadata": {
        "id": "view-in-github",
        "colab_type": "text"
      },
      "source": [
        "<a href=\"https://colab.research.google.com/github/g40rgeLE/ml_from_scratch/blob/main/KNNReg.ipynb\" target=\"_parent\"><img src=\"https://colab.research.google.com/assets/colab-badge.svg\" alt=\"Open In Colab\"/></a>"
      ]
    },
    {
      "cell_type": "code",
      "source": [
        "import numpy as np\n",
        "import pandas as pd"
      ],
      "metadata": {
        "id": "UliiBFpbKD1P"
      },
      "execution_count": null,
      "outputs": []
    },
    {
      "cell_type": "code",
      "execution_count": null,
      "metadata": {
        "id": "-z83OTuTJ64h"
      },
      "outputs": [],
      "source": [
        "class MyKNNReg:\n",
        "\n",
        "    def __init__(self,\n",
        "                 k: int = 3,\n",
        "                 metric: str = 'euclidean',\n",
        "                 weight: str = 'uniform'):\n",
        "        self.k = k\n",
        "        self.metric = metric\n",
        "        self.weight = weight\n",
        "\n",
        "    def __str__(self):\n",
        "        params = [f'{key}={value}' for key, value in self.__dict__.items()]\n",
        "        return 'MyKNNReg class: ' + ' '.join(params)\n",
        "\n",
        "    def __repr__(self):\n",
        "        params = [f'{key}={value}' for key, value in self.__dict__.items()]\n",
        "        return 'MyKNNReg class: ' + ' '.join(params)\n",
        "\n",
        "    def euclidean(self, row: pd.Series):\n",
        "        return (self.X_train - row).pow(2).sum(axis=1).pow(.5)\n",
        "\n",
        "    def chebyshev(self, row: pd.Series):\n",
        "        return (self.X_train - row).abs().max(axis=1)\n",
        "\n",
        "    def manhattan(self, row: pd.Series):\n",
        "        return (self.X_train - row).abs().sum(axis=1)\n",
        "\n",
        "    def cosine(self, row: pd.Series):\n",
        "        norms_train = self.X_train.pow(2).sum(axis=1).pow(.5)\n",
        "        norm_row = np.sqrt(row.pow(2).sum())\n",
        "        return 1 - (self.X_train @ row) / (norms_train * norm_row)\n",
        "\n",
        "    def _uniform_vote(self, dist: pd.Series):\n",
        "        return self.y_train[dist.sort_values().head(self.k).index].mean()\n",
        "\n",
        "    def _rank_vote(self, dist: pd.Series, proba=False):\n",
        "        target_k = self.y_train[dist.sort_values().head(self.k).index].reset_index(drop=True)\n",
        "        weights = (1 / (target_k.index + 1)).values\n",
        "        return (target_k * weights / weights.sum()).sum()\n",
        "\n",
        "    def _distance_vote(self, dist: pd.Series, proba=False):\n",
        "        target_k = self.y_train[dist.sort_values().head(self.k).index].reset_index(drop=True)\n",
        "        dist_k = dist.sort_values().head(self.k).reset_index(drop=True)\n",
        "        weights = 1 / dist_k\n",
        "        return (target_k * weights / weights.sum()).sum()\n",
        "\n",
        "    def __predict_unit(self, row: pd.Series):\n",
        "        dist = getattr(self, self.metric)(row)\n",
        "        return getattr(self, '_' + self.weight + '_vote')(dist)\n",
        "\n",
        "    def fit(self, X: pd.DataFrame, y: pd.Series):\n",
        "        self.X_train = X.copy(deep=True)\n",
        "        self.y_train = y.copy(deep=True)\n",
        "        self.train_size = X.shape\n",
        "\n",
        "    def predict(self, X: pd.DataFrame):\n",
        "        return X.apply(self.__predict_unit, axis=1)"
      ]
    }
  ]
}