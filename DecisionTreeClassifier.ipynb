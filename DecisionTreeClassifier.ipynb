{
  "nbformat": 4,
  "nbformat_minor": 0,
  "metadata": {
    "colab": {
      "provenance": [],
      "mount_file_id": "1YUzdQkl1bwwmgqAehvwhjXqnrH9wncls",
      "authorship_tag": "ABX9TyN9JdxI8Bwlkl7V2ZigP4oq",
      "include_colab_link": true
    },
    "kernelspec": {
      "name": "python3",
      "display_name": "Python 3"
    },
    "language_info": {
      "name": "python"
    }
  },
  "cells": [
    {
      "cell_type": "markdown",
      "metadata": {
        "id": "view-in-github",
        "colab_type": "text"
      },
      "source": [
        "<a href=\"https://colab.research.google.com/github/g40rgeLE/ml_from_scratch/blob/main/DecisionTreeClassifier.ipynb\" target=\"_parent\"><img src=\"https://colab.research.google.com/assets/colab-badge.svg\" alt=\"Open In Colab\"/></a>"
      ]
    },
    {
      "cell_type": "code",
      "source": [
        "import numpy as np\n",
        "import pandas as pd\n",
        "from sklearn.datasets import make_classification"
      ],
      "metadata": {
        "id": "6uoQkYzehXIq"
      },
      "execution_count": null,
      "outputs": []
    },
    {
      "cell_type": "code",
      "source": [
        "X, y = make_classification(n_samples=50, n_features=20, n_informative=2, random_state=42)\n",
        "X, y = pd.DataFrame(X), pd.Series(y)\n",
        "X.columns = [f'col_{i}' for i in X.columns]"
      ],
      "metadata": {
        "id": "r3aBLs2IZuWu"
      },
      "execution_count": null,
      "outputs": []
    },
    {
      "cell_type": "code",
      "source": [
        "class Node:\n",
        "    def __init__(\n",
        "            self,\n",
        "            col: str = None,\n",
        "            treshold: float = None,\n",
        "            left = None,\n",
        "            right = None,\n",
        "            gain = None,\n",
        "            value: float = None\n",
        "            ):\n",
        "        #decision nodes\n",
        "        self.col = col\n",
        "        self.treshold = treshold\n",
        "        self.left = left\n",
        "        self.right = right\n",
        "        self.gain = gain\n",
        "\n",
        "        #leaves nodes\n",
        "        self.value = value\n",
        "\n",
        "class MyTreeClf:\n",
        "    def __init__(\n",
        "            self,\n",
        "            max_depth: int = 5,\n",
        "            min_samples_split: int = 2,\n",
        "            max_leafs: int = 20,\n",
        "            bins: int = None,\n",
        "            criterion: str = 'entropy'\n",
        "            ):\n",
        "        self.max_depth = max_depth\n",
        "        self.min_samples_split = min_samples_split\n",
        "        self.max_leafs = max_leafs\n",
        "        self.bins = bins\n",
        "        self.criterion = criterion\n",
        "\n",
        "        self.root = None\n",
        "        self.leafs_cnt = 0\n",
        "        self.sum_leafs_val = 0\n",
        "        self.fi = None\n",
        "\n",
        "    def __str__(self):\n",
        "        params = [f'{key}={value}' for key, value in self.__dict__.items()]\n",
        "        return 'MyTreeClf class: ' + ', '.join(params)\n",
        "\n",
        "    def __repr__(self):\n",
        "        params = [f'{key}={value}' for key, value in self.__dict__.items()]\n",
        "        return 'MyTreeClf class: ' + ', '.join(params)\n",
        "\n",
        "    #best split block\n",
        "    @staticmethod\n",
        "    def _gini(vec):\n",
        "        probs = vec.value_counts() / vec.shape[0]\n",
        "        return 1 - probs.pow(2).sum()\n",
        "\n",
        "    @staticmethod\n",
        "    def _entropy(vec):\n",
        "        probs = vec.value_counts() / vec.shape[0]\n",
        "        return -1. * (probs * np.log2(probs)).sum()\n",
        "\n",
        "    def __info_gain(self, p, l_sub, r_sub):\n",
        "        crt_func = getattr(self, '_' + self.criterion)\n",
        "        gain = crt_func(p)\n",
        "        if l_sub.shape[0]:\n",
        "            gain -= l_sub.shape[0] / p.shape[0] * crt_func(l_sub)\n",
        "        if r_sub.shape[0]:\n",
        "            gain -= r_sub.shape[0] / p.shape[0] * crt_func(r_sub)\n",
        "        return gain\n",
        "\n",
        "    def get_best_split(self, X: pd.DataFrame, y: pd.Series):\n",
        "        best_col, best_treshold, best_gain = None, None, float('-inf')\n",
        "\n",
        "        for col in X.columns:\n",
        "            value = X[col]\n",
        "            tresholds = None\n",
        "            if self.bins:\n",
        "                tresholds = self.tresholds[col]\n",
        "            else:\n",
        "                col_np = np.sort(np.unique(value))\n",
        "                tresholds = .5 * (col_np[1:] + col_np[:-1])\n",
        "\n",
        "            for treshold in tresholds:\n",
        "                left_y = y[value <= treshold]\n",
        "                right_y = y[value > treshold]\n",
        "                gain = self.__info_gain(y, left_y, right_y)\n",
        "\n",
        "                if gain > best_gain:\n",
        "                    best_col = col\n",
        "                    best_treshold = treshold\n",
        "                    best_gain = gain\n",
        "\n",
        "        return best_col, best_treshold, best_gain\n",
        "    #print_tree block\n",
        "    def print_tree(self, tree: Node = None, indent = '  '):\n",
        "        if not tree:\n",
        "            tree = self.root\n",
        "\n",
        "        if tree.value is not None:\n",
        "            print(tree.value)\n",
        "        else:\n",
        "            print(f'{tree.col} > {tree.treshold} ? gain = {tree.gain}')\n",
        "            print('%sleft: ' % (indent), end='')\n",
        "            self.print_tree(tree.left, indent + indent)\n",
        "            print('%sright: ' % (indent), end='')\n",
        "            self.print_tree(tree.right, indent + indent)\n",
        "\n",
        "    #fit block\n",
        "    def __conditions(self, depth, n_samples):\n",
        "        return (depth < self.max_depth) and \\\n",
        "            (n_samples >= self.min_samples_split) and \\\n",
        "            (self.leafs_cnt < self.max_leafs)\n",
        "\n",
        "    def __build_tree(self, X: pd.DataFrame, y: pd.Series, cur_depth = 0):\n",
        "        if self.__conditions(cur_depth, X.shape[0]):\n",
        "            col, treshold, gain = self.get_best_split(X, y)\n",
        "\n",
        "            if gain > 0:\n",
        "                self.leafs_cnt += 2 if cur_depth == 0 else 1\n",
        "                self.fi[col] += X.shape[0] / self.train_size[0] * gain\n",
        "\n",
        "                idx_l, idx_r = (X[col] <= treshold), (X[col] > treshold)\n",
        "                X_l, y_l = X[idx_l], y[idx_l]\n",
        "                X_r, y_r = X[idx_r], y[idx_r]\n",
        "                sub_l = self.__build_tree(X_l, y_l, cur_depth + 1)\n",
        "                sub_r = self.__build_tree(X_r, y_r, cur_depth + 1)\n",
        "                return Node(col, treshold, sub_l, sub_r, gain)\n",
        "\n",
        "        leaf_value = float(y.mean())\n",
        "        self.sum_leafs_val += leaf_value\n",
        "        return Node(value=leaf_value)\n",
        "\n",
        "    def __tresholds_preprocessing(self, col: pd.Series):\n",
        "        col_np = np.sort(np.unique(col))\n",
        "        tresholds = .5 * (col_np[1:] + col_np[:-1])\n",
        "\n",
        "        if not(tresholds.shape[0] <= self.bins - 1):\n",
        "            _, tresholds = np.histogram(col, self.bins)\n",
        "            tresholds = tresholds[1:-1]\n",
        "\n",
        "        return tresholds\n",
        "\n",
        "    def fit(self, X: pd.DataFrame, y: pd.Series):\n",
        "        self.train_size = X.shape\n",
        "        self.fi = dict(zip(X.columns, [0] * X.shape[0]))\n",
        "\n",
        "        if self.bins:\n",
        "            self.tresholds = X.apply(self.__tresholds_preprocessing, axis=0)\n",
        "        self.root = self.__build_tree(X, y)\n",
        "\n",
        "    #predict block\n",
        "    def __predict_one(self, row: pd.Series, tree: Node = None):\n",
        "        if not tree:\n",
        "            tree = self.root\n",
        "\n",
        "        if tree.value is not None:\n",
        "            return tree.value\n",
        "\n",
        "        if row[tree.col] <= tree.treshold:\n",
        "            return self.__predict_one(row, tree.left)\n",
        "        else:\n",
        "            return self.__predict_one(row, tree.right)\n",
        "\n",
        "    def predict_proba(self, X: pd.DataFrame):\n",
        "        return X.apply(self.__predict_one, axis=1)\n",
        "\n",
        "    def predict(self, X: pd.DataFrame):\n",
        "        return self.predict_proba(X).apply(lambda x: 1 if x > 0.5 else 0)"
      ],
      "metadata": {
        "id": "jdeRnTfDaC6p"
      },
      "execution_count": null,
      "outputs": []
    },
    {
      "cell_type": "code",
      "source": [
        "df = pd.read_csv('/content/drive/MyDrive/Datasets/banknote+authentication.zip', header=None)\n",
        "df.columns = ['variance', 'skewness', 'curtosis', 'entropy', 'target']\n",
        "X, y = df.iloc[:,:4], df['target']\n",
        "X.head()"
      ],
      "metadata": {
        "colab": {
          "base_uri": "https://localhost:8080/",
          "height": 206
        },
        "id": "QaSOfiw1Qj2J",
        "outputId": "c5664541-6402-417e-dfcb-501698353ec4"
      },
      "execution_count": null,
      "outputs": [
        {
          "output_type": "execute_result",
          "data": {
            "text/plain": [
              "   variance  skewness  curtosis  entropy\n",
              "0   3.62160    8.6661   -2.8073 -0.44699\n",
              "1   4.54590    8.1674   -2.4586 -1.46210\n",
              "2   3.86600   -2.6383    1.9242  0.10645\n",
              "3   3.45660    9.5228   -4.0112 -3.59440\n",
              "4   0.32924   -4.4552    4.5718 -0.98880"
            ],
            "text/html": [
              "\n",
              "  <div id=\"df-23bd5aa7-01af-49a5-8a9b-3690f8591cef\" class=\"colab-df-container\">\n",
              "    <div>\n",
              "<style scoped>\n",
              "    .dataframe tbody tr th:only-of-type {\n",
              "        vertical-align: middle;\n",
              "    }\n",
              "\n",
              "    .dataframe tbody tr th {\n",
              "        vertical-align: top;\n",
              "    }\n",
              "\n",
              "    .dataframe thead th {\n",
              "        text-align: right;\n",
              "    }\n",
              "</style>\n",
              "<table border=\"1\" class=\"dataframe\">\n",
              "  <thead>\n",
              "    <tr style=\"text-align: right;\">\n",
              "      <th></th>\n",
              "      <th>variance</th>\n",
              "      <th>skewness</th>\n",
              "      <th>curtosis</th>\n",
              "      <th>entropy</th>\n",
              "    </tr>\n",
              "  </thead>\n",
              "  <tbody>\n",
              "    <tr>\n",
              "      <th>0</th>\n",
              "      <td>3.62160</td>\n",
              "      <td>8.6661</td>\n",
              "      <td>-2.8073</td>\n",
              "      <td>-0.44699</td>\n",
              "    </tr>\n",
              "    <tr>\n",
              "      <th>1</th>\n",
              "      <td>4.54590</td>\n",
              "      <td>8.1674</td>\n",
              "      <td>-2.4586</td>\n",
              "      <td>-1.46210</td>\n",
              "    </tr>\n",
              "    <tr>\n",
              "      <th>2</th>\n",
              "      <td>3.86600</td>\n",
              "      <td>-2.6383</td>\n",
              "      <td>1.9242</td>\n",
              "      <td>0.10645</td>\n",
              "    </tr>\n",
              "    <tr>\n",
              "      <th>3</th>\n",
              "      <td>3.45660</td>\n",
              "      <td>9.5228</td>\n",
              "      <td>-4.0112</td>\n",
              "      <td>-3.59440</td>\n",
              "    </tr>\n",
              "    <tr>\n",
              "      <th>4</th>\n",
              "      <td>0.32924</td>\n",
              "      <td>-4.4552</td>\n",
              "      <td>4.5718</td>\n",
              "      <td>-0.98880</td>\n",
              "    </tr>\n",
              "  </tbody>\n",
              "</table>\n",
              "</div>\n",
              "    <div class=\"colab-df-buttons\">\n",
              "\n",
              "  <div class=\"colab-df-container\">\n",
              "    <button class=\"colab-df-convert\" onclick=\"convertToInteractive('df-23bd5aa7-01af-49a5-8a9b-3690f8591cef')\"\n",
              "            title=\"Convert this dataframe to an interactive table.\"\n",
              "            style=\"display:none;\">\n",
              "\n",
              "  <svg xmlns=\"http://www.w3.org/2000/svg\" height=\"24px\" viewBox=\"0 -960 960 960\">\n",
              "    <path d=\"M120-120v-720h720v720H120Zm60-500h600v-160H180v160Zm220 220h160v-160H400v160Zm0 220h160v-160H400v160ZM180-400h160v-160H180v160Zm440 0h160v-160H620v160ZM180-180h160v-160H180v160Zm440 0h160v-160H620v160Z\"/>\n",
              "  </svg>\n",
              "    </button>\n",
              "\n",
              "  <style>\n",
              "    .colab-df-container {\n",
              "      display:flex;\n",
              "      gap: 12px;\n",
              "    }\n",
              "\n",
              "    .colab-df-convert {\n",
              "      background-color: #E8F0FE;\n",
              "      border: none;\n",
              "      border-radius: 50%;\n",
              "      cursor: pointer;\n",
              "      display: none;\n",
              "      fill: #1967D2;\n",
              "      height: 32px;\n",
              "      padding: 0 0 0 0;\n",
              "      width: 32px;\n",
              "    }\n",
              "\n",
              "    .colab-df-convert:hover {\n",
              "      background-color: #E2EBFA;\n",
              "      box-shadow: 0px 1px 2px rgba(60, 64, 67, 0.3), 0px 1px 3px 1px rgba(60, 64, 67, 0.15);\n",
              "      fill: #174EA6;\n",
              "    }\n",
              "\n",
              "    .colab-df-buttons div {\n",
              "      margin-bottom: 4px;\n",
              "    }\n",
              "\n",
              "    [theme=dark] .colab-df-convert {\n",
              "      background-color: #3B4455;\n",
              "      fill: #D2E3FC;\n",
              "    }\n",
              "\n",
              "    [theme=dark] .colab-df-convert:hover {\n",
              "      background-color: #434B5C;\n",
              "      box-shadow: 0px 1px 3px 1px rgba(0, 0, 0, 0.15);\n",
              "      filter: drop-shadow(0px 1px 2px rgba(0, 0, 0, 0.3));\n",
              "      fill: #FFFFFF;\n",
              "    }\n",
              "  </style>\n",
              "\n",
              "    <script>\n",
              "      const buttonEl =\n",
              "        document.querySelector('#df-23bd5aa7-01af-49a5-8a9b-3690f8591cef button.colab-df-convert');\n",
              "      buttonEl.style.display =\n",
              "        google.colab.kernel.accessAllowed ? 'block' : 'none';\n",
              "\n",
              "      async function convertToInteractive(key) {\n",
              "        const element = document.querySelector('#df-23bd5aa7-01af-49a5-8a9b-3690f8591cef');\n",
              "        const dataTable =\n",
              "          await google.colab.kernel.invokeFunction('convertToInteractive',\n",
              "                                                    [key], {});\n",
              "        if (!dataTable) return;\n",
              "\n",
              "        const docLinkHtml = 'Like what you see? Visit the ' +\n",
              "          '<a target=\"_blank\" href=https://colab.research.google.com/notebooks/data_table.ipynb>data table notebook</a>'\n",
              "          + ' to learn more about interactive tables.';\n",
              "        element.innerHTML = '';\n",
              "        dataTable['output_type'] = 'display_data';\n",
              "        await google.colab.output.renderOutput(dataTable, element);\n",
              "        const docLink = document.createElement('div');\n",
              "        docLink.innerHTML = docLinkHtml;\n",
              "        element.appendChild(docLink);\n",
              "      }\n",
              "    </script>\n",
              "  </div>\n",
              "\n",
              "\n",
              "<div id=\"df-eb6e33e8-d705-4675-a498-b067a2889b7e\">\n",
              "  <button class=\"colab-df-quickchart\" onclick=\"quickchart('df-eb6e33e8-d705-4675-a498-b067a2889b7e')\"\n",
              "            title=\"Suggest charts\"\n",
              "            style=\"display:none;\">\n",
              "\n",
              "<svg xmlns=\"http://www.w3.org/2000/svg\" height=\"24px\"viewBox=\"0 0 24 24\"\n",
              "     width=\"24px\">\n",
              "    <g>\n",
              "        <path d=\"M19 3H5c-1.1 0-2 .9-2 2v14c0 1.1.9 2 2 2h14c1.1 0 2-.9 2-2V5c0-1.1-.9-2-2-2zM9 17H7v-7h2v7zm4 0h-2V7h2v10zm4 0h-2v-4h2v4z\"/>\n",
              "    </g>\n",
              "</svg>\n",
              "  </button>\n",
              "\n",
              "<style>\n",
              "  .colab-df-quickchart {\n",
              "      --bg-color: #E8F0FE;\n",
              "      --fill-color: #1967D2;\n",
              "      --hover-bg-color: #E2EBFA;\n",
              "      --hover-fill-color: #174EA6;\n",
              "      --disabled-fill-color: #AAA;\n",
              "      --disabled-bg-color: #DDD;\n",
              "  }\n",
              "\n",
              "  [theme=dark] .colab-df-quickchart {\n",
              "      --bg-color: #3B4455;\n",
              "      --fill-color: #D2E3FC;\n",
              "      --hover-bg-color: #434B5C;\n",
              "      --hover-fill-color: #FFFFFF;\n",
              "      --disabled-bg-color: #3B4455;\n",
              "      --disabled-fill-color: #666;\n",
              "  }\n",
              "\n",
              "  .colab-df-quickchart {\n",
              "    background-color: var(--bg-color);\n",
              "    border: none;\n",
              "    border-radius: 50%;\n",
              "    cursor: pointer;\n",
              "    display: none;\n",
              "    fill: var(--fill-color);\n",
              "    height: 32px;\n",
              "    padding: 0;\n",
              "    width: 32px;\n",
              "  }\n",
              "\n",
              "  .colab-df-quickchart:hover {\n",
              "    background-color: var(--hover-bg-color);\n",
              "    box-shadow: 0 1px 2px rgba(60, 64, 67, 0.3), 0 1px 3px 1px rgba(60, 64, 67, 0.15);\n",
              "    fill: var(--button-hover-fill-color);\n",
              "  }\n",
              "\n",
              "  .colab-df-quickchart-complete:disabled,\n",
              "  .colab-df-quickchart-complete:disabled:hover {\n",
              "    background-color: var(--disabled-bg-color);\n",
              "    fill: var(--disabled-fill-color);\n",
              "    box-shadow: none;\n",
              "  }\n",
              "\n",
              "  .colab-df-spinner {\n",
              "    border: 2px solid var(--fill-color);\n",
              "    border-color: transparent;\n",
              "    border-bottom-color: var(--fill-color);\n",
              "    animation:\n",
              "      spin 1s steps(1) infinite;\n",
              "  }\n",
              "\n",
              "  @keyframes spin {\n",
              "    0% {\n",
              "      border-color: transparent;\n",
              "      border-bottom-color: var(--fill-color);\n",
              "      border-left-color: var(--fill-color);\n",
              "    }\n",
              "    20% {\n",
              "      border-color: transparent;\n",
              "      border-left-color: var(--fill-color);\n",
              "      border-top-color: var(--fill-color);\n",
              "    }\n",
              "    30% {\n",
              "      border-color: transparent;\n",
              "      border-left-color: var(--fill-color);\n",
              "      border-top-color: var(--fill-color);\n",
              "      border-right-color: var(--fill-color);\n",
              "    }\n",
              "    40% {\n",
              "      border-color: transparent;\n",
              "      border-right-color: var(--fill-color);\n",
              "      border-top-color: var(--fill-color);\n",
              "    }\n",
              "    60% {\n",
              "      border-color: transparent;\n",
              "      border-right-color: var(--fill-color);\n",
              "    }\n",
              "    80% {\n",
              "      border-color: transparent;\n",
              "      border-right-color: var(--fill-color);\n",
              "      border-bottom-color: var(--fill-color);\n",
              "    }\n",
              "    90% {\n",
              "      border-color: transparent;\n",
              "      border-bottom-color: var(--fill-color);\n",
              "    }\n",
              "  }\n",
              "</style>\n",
              "\n",
              "  <script>\n",
              "    async function quickchart(key) {\n",
              "      const quickchartButtonEl =\n",
              "        document.querySelector('#' + key + ' button');\n",
              "      quickchartButtonEl.disabled = true;  // To prevent multiple clicks.\n",
              "      quickchartButtonEl.classList.add('colab-df-spinner');\n",
              "      try {\n",
              "        const charts = await google.colab.kernel.invokeFunction(\n",
              "            'suggestCharts', [key], {});\n",
              "      } catch (error) {\n",
              "        console.error('Error during call to suggestCharts:', error);\n",
              "      }\n",
              "      quickchartButtonEl.classList.remove('colab-df-spinner');\n",
              "      quickchartButtonEl.classList.add('colab-df-quickchart-complete');\n",
              "    }\n",
              "    (() => {\n",
              "      let quickchartButtonEl =\n",
              "        document.querySelector('#df-eb6e33e8-d705-4675-a498-b067a2889b7e button');\n",
              "      quickchartButtonEl.style.display =\n",
              "        google.colab.kernel.accessAllowed ? 'block' : 'none';\n",
              "    })();\n",
              "  </script>\n",
              "</div>\n",
              "    </div>\n",
              "  </div>\n"
            ],
            "application/vnd.google.colaboratory.intrinsic+json": {
              "type": "dataframe",
              "variable_name": "X",
              "summary": "{\n  \"name\": \"X\",\n  \"rows\": 1372,\n  \"fields\": [\n    {\n      \"column\": \"variance\",\n      \"properties\": {\n        \"dtype\": \"number\",\n        \"std\": 2.8427625862785617,\n        \"min\": -7.0421,\n        \"max\": 6.8248,\n        \"num_unique_values\": 1338,\n        \"samples\": [\n          -2.286,\n          -0.539,\n          0.89512\n        ],\n        \"semantic_type\": \"\",\n        \"description\": \"\"\n      }\n    },\n    {\n      \"column\": \"skewness\",\n      \"properties\": {\n        \"dtype\": \"number\",\n        \"std\": 5.869046743695517,\n        \"min\": -13.7731,\n        \"max\": 12.9516,\n        \"num_unique_values\": 1256,\n        \"samples\": [\n          11.2217,\n          -4.6145,\n          6.1499\n        ],\n        \"semantic_type\": \"\",\n        \"description\": \"\"\n      }\n    },\n    {\n      \"column\": \"curtosis\",\n      \"properties\": {\n        \"dtype\": \"number\",\n        \"std\": 4.310030090106596,\n        \"min\": -5.2861,\n        \"max\": 17.9274,\n        \"num_unique_values\": 1270,\n        \"samples\": [\n          7.8981,\n          9.8208,\n          0.20021\n        ],\n        \"semantic_type\": \"\",\n        \"description\": \"\"\n      }\n    },\n    {\n      \"column\": \"entropy\",\n      \"properties\": {\n        \"dtype\": \"number\",\n        \"std\": 2.10101313735961,\n        \"min\": -8.5482,\n        \"max\": 2.4495,\n        \"num_unique_values\": 1156,\n        \"samples\": [\n          1.0271,\n          0.90946,\n          -0.026738\n        ],\n        \"semantic_type\": \"\",\n        \"description\": \"\"\n      }\n    }\n  ]\n}"
            }
          },
          "metadata": {},
          "execution_count": 79
        }
      ]
    },
    {
      "cell_type": "code",
      "source": [
        "clf = MyTreeClf(15, 20, 30, 6, criterion='gini')"
      ],
      "metadata": {
        "id": "4acP_SIKerf2"
      },
      "execution_count": null,
      "outputs": []
    },
    {
      "cell_type": "code",
      "source": [
        "clf.fit(X, y)"
      ],
      "metadata": {
        "id": "ivYQyLWuk_Ci"
      },
      "execution_count": null,
      "outputs": []
    },
    {
      "cell_type": "code",
      "source": [
        "clf.leafs_cnt"
      ],
      "metadata": {
        "colab": {
          "base_uri": "https://localhost:8080/"
        },
        "id": "XAl-jxncPBQ8",
        "outputId": "20775c41-1aea-4812-e2cd-c3d6df366913"
      },
      "execution_count": null,
      "outputs": [
        {
          "output_type": "execute_result",
          "data": {
            "text/plain": [
              "27"
            ]
          },
          "metadata": {},
          "execution_count": 82
        }
      ]
    },
    {
      "cell_type": "code",
      "source": [
        "clf.sum_leafs_val"
      ],
      "metadata": {
        "colab": {
          "base_uri": "https://localhost:8080/"
        },
        "id": "WXjKhE_olAWz",
        "outputId": "d4cb97ca-1171-4413-f72a-d5e0242ce4b7"
      },
      "execution_count": null,
      "outputs": [
        {
          "output_type": "execute_result",
          "data": {
            "text/plain": [
              "12.412269050234695"
            ]
          },
          "metadata": {},
          "execution_count": 83
        }
      ]
    },
    {
      "cell_type": "code",
      "source": [
        "clf.predict(X).value_counts()"
      ],
      "metadata": {
        "colab": {
          "base_uri": "https://localhost:8080/"
        },
        "id": "OiaGvGrXlKDV",
        "outputId": "46a90a9f-d016-4681-833e-0dd9e64ba66d"
      },
      "execution_count": null,
      "outputs": [
        {
          "output_type": "execute_result",
          "data": {
            "text/plain": [
              "0    755\n",
              "1    617\n",
              "Name: count, dtype: int64"
            ]
          },
          "metadata": {},
          "execution_count": 24
        }
      ]
    },
    {
      "cell_type": "code",
      "source": [
        "clf.fi"
      ],
      "metadata": {
        "colab": {
          "base_uri": "https://localhost:8080/"
        },
        "id": "xTlhrOnpTZc5",
        "outputId": "0469552c-ea0c-42bd-c904-5f48a47f8b26"
      },
      "execution_count": null,
      "outputs": [
        {
          "output_type": "execute_result",
          "data": {
            "text/plain": [
              "{'variance': 0.29104459429524376,\n",
              " 'skewness': 0.10539455280100718,\n",
              " 'curtosis': 0.0582540282874953,\n",
              " 'entropy': 0.008363882866077312}"
            ]
          },
          "metadata": {},
          "execution_count": 84
        }
      ]
    },
    {
      "cell_type": "code",
      "source": [],
      "metadata": {
        "id": "HXN3uS7btody"
      },
      "execution_count": null,
      "outputs": []
    }
  ]
}