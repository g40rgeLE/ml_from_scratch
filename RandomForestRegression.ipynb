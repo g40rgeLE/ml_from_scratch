{
  "nbformat": 4,
  "nbformat_minor": 0,
  "metadata": {
    "colab": {
      "provenance": [],
      "authorship_tag": "ABX9TyMtzUAqI+W6YV57UCm68No3",
      "include_colab_link": true
    },
    "kernelspec": {
      "name": "python3",
      "display_name": "Python 3"
    },
    "language_info": {
      "name": "python"
    }
  },
  "cells": [
    {
      "cell_type": "markdown",
      "metadata": {
        "id": "view-in-github",
        "colab_type": "text"
      },
      "source": [
        "<a href=\"https://colab.research.google.com/github/g40rgeLE/ml_from_scratch/blob/main/RandomForestRegression.ipynb\" target=\"_parent\"><img src=\"https://colab.research.google.com/assets/colab-badge.svg\" alt=\"Open In Colab\"/></a>"
      ]
    },
    {
      "cell_type": "code",
      "source": [
        "import numpy as np\n",
        "import pandas as pd\n",
        "import random\n",
        "from sklearn.datasets import make_regression"
      ],
      "metadata": {
        "id": "49rDiNOuLQLq"
      },
      "execution_count": null,
      "outputs": []
    },
    {
      "cell_type": "code",
      "source": [
        "class Node:\n",
        "    def __init__(\n",
        "            self,\n",
        "            col: str = None,\n",
        "            treshold: float = None,\n",
        "            left = None,\n",
        "            right = None,\n",
        "            gain = None,\n",
        "            value: float = None\n",
        "            ):\n",
        "        #decision nodes\n",
        "        self.col = col\n",
        "        self.treshold = treshold\n",
        "        self.left = left\n",
        "        self.right = right\n",
        "        self.gain = gain\n",
        "\n",
        "        #leaves nodes\n",
        "        self.value = value\n",
        "\n",
        "\n",
        "class MyTreeReg:\n",
        "    def __init__(\n",
        "            self,\n",
        "            max_depth: int = 5,\n",
        "            min_samples_split: int = 2,\n",
        "            max_leafs = 20,\n",
        "            bins: int = None\n",
        "            ):\n",
        "        self.max_depth = max_depth\n",
        "        self.min_samples_split = min_samples_split\n",
        "        self.max_leafs = max_leafs\n",
        "        self.leafs_cnt = 0\n",
        "        self.bins = bins\n",
        "\n",
        "        self.fi = dict()\n",
        "        self.fi_N = None\n",
        "        self.root = None\n",
        "        self.sum_leafs_val = 0\n",
        "\n",
        "    def __str__(self):\n",
        "        params = [f'{key}={value}' for key, value in self.__dict__.items()]\n",
        "        return 'MyTreeReg class: ' + ', '.join(params)\n",
        "\n",
        "    def __repr__(self):\n",
        "        params = [f'{key}={value}' for key, value in self.__dict__.items()]\n",
        "        return 'MyTreeReg class: ' + ', '.join(params)\n",
        "\n",
        "    def __mse(self, vec: pd.Series):\n",
        "        return 1/vec.shape[0] * (vec - vec.mean()).pow(2).sum()\n",
        "\n",
        "    def __mse_gain(self, p: pd.Series, left_sub: pd.Series, right_sub: pd.Series):\n",
        "        gain = 0\n",
        "        if p.shape[0]:\n",
        "            gain = self.__mse(p)\n",
        "        else:\n",
        "            return None\n",
        "\n",
        "        if left_sub.shape[0]:\n",
        "            gain -= left_sub.shape[0] / p.shape[0] * self.__mse(left_sub)\n",
        "\n",
        "        if right_sub.shape[0]:\n",
        "            gain -= right_sub.shape[0] / p.shape[0] * self.__mse(right_sub)\n",
        "\n",
        "        return gain\n",
        "\n",
        "    def get_best_split(self, X: pd.DataFrame, y: pd.Series):\n",
        "        best_col_name, best_treshold, best_gain = None, None, float('-inf')\n",
        "\n",
        "        for col in X.columns:\n",
        "            values = X[col]\n",
        "            col_np = np.sort(np.unique(values))\n",
        "            tresholds = None\n",
        "            if self.bins:\n",
        "                tresholds = self.tresholds[col]\n",
        "            else:\n",
        "                tresholds = .5 * (col_np[1:] + col_np[:-1])\n",
        "\n",
        "            for treshold in tresholds:\n",
        "                left_y = y[values <= treshold]\n",
        "                right_y = y[values > treshold]\n",
        "                gain = self.__mse_gain(y, left_y, right_y)\n",
        "\n",
        "                if gain and gain > best_gain:\n",
        "                    best_col_name = col\n",
        "                    best_treshold = treshold\n",
        "                    best_gain = gain\n",
        "\n",
        "        return best_col_name, best_treshold, best_gain\n",
        "\n",
        "    def print_tree(self, tree: Node = None, indent = '  '):\n",
        "        if tree is None:\n",
        "            tree = self.root\n",
        "\n",
        "        if tree.value is not None:\n",
        "            print(tree.value)\n",
        "        else:\n",
        "            print(f'{tree.col} > {tree.treshold} ? gain = {tree.gain}')\n",
        "            print(\"%sleft:\" % (indent), end=\"\")\n",
        "            self.print_tree(tree.left, indent + indent)\n",
        "            print(\"%sright:\" % (indent), end=\"\")\n",
        "            self.print_tree(tree.right, indent + indent)\n",
        "\n",
        "\n",
        "    def __conditions(self, depth, num_samples):\n",
        "        return (depth < self.max_depth) and \\\n",
        "            (num_samples >= self.min_samples_split) and \\\n",
        "            (self.leafs_cnt < self.max_leafs)\n",
        "\n",
        "\n",
        "    def __build_tree(self, X: pd.DataFrame, y: pd.Series, cur_depth = 0):\n",
        "\n",
        "        if self.__conditions(cur_depth, X.shape[0]):\n",
        "            col, treshold, gain = self.get_best_split(X, y)\n",
        "\n",
        "            if gain > 0:\n",
        "                self.leafs_cnt += 2 if cur_depth == 0 else 1\n",
        "                N = self.fi_N if self.fi_N else self.train_size[0]\n",
        "                self.fi[col] += X.shape[0] / N * gain\n",
        "\n",
        "                left_idx = (X[col] <= treshold)\n",
        "                right_idx = (X[col] > treshold)\n",
        "                X_left, y_left = X[left_idx], y[left_idx]\n",
        "                X_right, y_right = X[right_idx], y[right_idx]\n",
        "\n",
        "                left_sub = self.__build_tree(X_left, y_left, cur_depth + 1)\n",
        "                right_sub = self.__build_tree(X_right, y_right, cur_depth + 1)\n",
        "                return Node(col, treshold, left_sub, right_sub, gain)\n",
        "\n",
        "        leaf_val = float(y.mean())\n",
        "        self.sum_leafs_val += leaf_val\n",
        "        return Node(value=leaf_val)\n",
        "\n",
        "    def __tresholds_preprocessing(self, col: pd.Series):\n",
        "        col_np = np.sort(np.unique(col))\n",
        "        tresholds = .5 * (col_np[1:] + col_np[:-1])\n",
        "        if not(tresholds.shape[0] <= self.bins - 1):\n",
        "            _, tresholds = np.histogram(col, self.bins)\n",
        "            tresholds = tresholds[1:-1]\n",
        "        return tresholds\n",
        "\n",
        "    def fit(self, X: pd.DataFrame, y: pd.Series):\n",
        "        self.train_size = X.shape\n",
        "        self.fi = dict(zip(X.columns, [0]*X.shape[1]))\n",
        "\n",
        "        if self.bins:\n",
        "            self.tresholds = X.apply(self.__tresholds_preprocessing, axis=0)\n",
        "        self.root = self.__build_tree(X, y)\n",
        "\n",
        "    def __predict_one(self, row: pd.Series, tree: Node = None):\n",
        "        if not tree:\n",
        "            tree = self.root\n",
        "\n",
        "        if tree.value is not None:\n",
        "            return tree.value\n",
        "\n",
        "        if row[tree.col] <= tree.treshold:\n",
        "            return self.__predict_one(row, tree.left)\n",
        "        else:\n",
        "            return self.__predict_one(row, tree.right)\n",
        "\n",
        "    def predict(self, X: pd.DataFrame):\n",
        "        return X.apply(self.__predict_one, axis=1)"
      ],
      "metadata": {
        "id": "F6S-JabELQ-e"
      },
      "execution_count": null,
      "outputs": []
    },
    {
      "cell_type": "code",
      "execution_count": null,
      "metadata": {
        "id": "eZUouTz9Iwz0"
      },
      "outputs": [],
      "source": [
        "class MyForestReg:\n",
        "    def __init__(\n",
        "            self,\n",
        "            n_estimators: int = 10,\n",
        "            max_features: float = 0.5,\n",
        "            max_samples: float = 0.5,\n",
        "            max_depth: int = 5,\n",
        "            min_samples_split: int = 2,\n",
        "            max_leafs: int = 20,\n",
        "            bins: int = 16,\n",
        "            random_state: int = 42,\n",
        "            oob_score: str = None\n",
        "                 ):\n",
        "        #forest params\n",
        "        self.n_estimators = n_estimators\n",
        "        self.max_features = max_features\n",
        "        self.max_samples = max_samples\n",
        "\n",
        "        #trees params\n",
        "        self.max_depth = max_depth\n",
        "        self.min_samples_split = min_samples_split\n",
        "        self.max_leafs = max_leafs\n",
        "        self.bins = bins\n",
        "\n",
        "        #random params\n",
        "        self.random_state = random_state\n",
        "\n",
        "        #another\n",
        "        self.trees = []\n",
        "        self.leafs_cnt = 0\n",
        "        self.fi = dict()\n",
        "        self.oob_score = oob_score\n",
        "        self.oob_score_ = None\n",
        "        self.bootstrap_idx = []\n",
        "\n",
        "    def __str__(self):\n",
        "        params = [f'{key}={value}' for key, value in self.__dict__.items()]\n",
        "        return 'MyForestReg class: ' + ', '.join(params)\n",
        "\n",
        "    def __repr__(self):\n",
        "        params = [f'{key}={value}' for key, value in self.__dict__.items()]\n",
        "        return 'MyForestReg class: ' + ', '.join(params)\n",
        "\n",
        "    #metrics\n",
        "    @staticmethod\n",
        "    def mse(y_true: pd.Series, y_pred: pd.Series):\n",
        "        return 1 / y_true.shape[0] * (y_true - y_pred).pow(2).sum()\n",
        "\n",
        "    @staticmethod\n",
        "    def mae(y_true, y_pred):\n",
        "        return 1 / y_true.shape[0] * (y_true - y_pred).abs().sum()\n",
        "\n",
        "    @staticmethod\n",
        "    def rmse(y_true, y_pred):\n",
        "        return np.sqrt(MyForestReg.mse(y_true, y_pred))\n",
        "\n",
        "    @staticmethod\n",
        "    def mape(y_true, y_pred):\n",
        "        return 100 / y_true.shape[0] * ((y_true - y_pred) / y_true).abs().sum()\n",
        "\n",
        "    @staticmethod\n",
        "    def r2(y_true, y_pred):\n",
        "        return 1 - (y_true - y_pred).pow(2).sum() / (y_true - y_true.mean()).pow(2).sum()\n",
        "\n",
        "    #fit\n",
        "    def __oob_score_calc(self, X: pd.DataFrame, y: pd.Series):\n",
        "        oob_prob = np.zeros_like(y, dtype=np.float64)\n",
        "        oob_count = np.zeros_like(y, dtype=np.int64)\n",
        "\n",
        "        for i, tree in enumerate(self.trees):\n",
        "            oob_idx = np.setxor1d(range(X.shape[0]), self.bootstrap_idx[i])\n",
        "            oob_prob[oob_idx] += tree.predict(X.iloc[oob_idx, :]).to_numpy()\n",
        "            oob_count[oob_idx] += 1\n",
        "\n",
        "        validate = oob_count > 0\n",
        "        oob_prob = oob_prob[validate]\n",
        "        oob_count = oob_count[validate]\n",
        "        y_pred = oob_prob / oob_count\n",
        "        y_true = y[validate]\n",
        "\n",
        "        return getattr(self, self.oob_score)(y_true, y_pred)\n",
        "\n",
        "    def fit(self, X: pd.DataFrame, y: pd.Series):\n",
        "        random.seed(self.random_state)\n",
        "        self.fi = dict(zip(X.columns, [0]*X.shape[1]))\n",
        "        for i in range(self.n_estimators):\n",
        "            N, M = X.shape\n",
        "            cols_idx = random.sample(X.columns.to_list(), round(self.max_features * M))\n",
        "            rows_idx = random.sample(range(X.shape[0]), round(self.max_samples * N))\n",
        "            self.bootstrap_idx += [rows_idx]\n",
        "\n",
        "            tree = MyTreeReg(max_depth=self.max_depth,\n",
        "                             min_samples_split=self.min_samples_split,\n",
        "                             max_leafs=self.max_leafs,\n",
        "                             bins=self.bins)\n",
        "            tree.fi_N = N\n",
        "            tree.fit(X.loc[rows_idx, cols_idx], y[rows_idx])\n",
        "            self.leafs_cnt += tree.leafs_cnt\n",
        "            self.trees += [tree]\n",
        "\n",
        "        for tree in self.trees:\n",
        "            for key, value in tree.fi.items():\n",
        "                self.fi[key] += value\n",
        "\n",
        "        self.oob_score_ = self.__oob_score_calc(X, y)\n",
        "\n",
        "    #predict\n",
        "    def predict(self, X: pd.DataFrame):\n",
        "        predictions = []\n",
        "        for i, tree in enumerate(self.trees):\n",
        "            y_pred = tree.predict(X)\n",
        "            y_pred.name = f'tree_{i}'\n",
        "            predictions += [y_pred]\n",
        "\n",
        "        df_predict = pd.concat(predictions, axis=1)\n",
        "        return df_predict.mean(axis=1)"
      ]
    },
    {
      "cell_type": "code",
      "source": [
        "from sklearn.datasets import load_diabetes\n",
        "\n",
        "data = load_diabetes(as_frame=True)\n",
        "X, y = data['data'], data['target']"
      ],
      "metadata": {
        "id": "z4mzflIxKpVc"
      },
      "execution_count": null,
      "outputs": []
    },
    {
      "cell_type": "code",
      "source": [
        "X.head()"
      ],
      "metadata": {
        "colab": {
          "base_uri": "https://localhost:8080/",
          "height": 206
        },
        "id": "iW9123CONXHB",
        "outputId": "59688b16-7218-49a2-aa65-70c593a0dc90"
      },
      "execution_count": null,
      "outputs": [
        {
          "output_type": "execute_result",
          "data": {
            "text/plain": [
              "        age       sex       bmi        bp        s1        s2        s3  \\\n",
              "0  0.038076  0.050680  0.061696  0.021872 -0.044223 -0.034821 -0.043401   \n",
              "1 -0.001882 -0.044642 -0.051474 -0.026328 -0.008449 -0.019163  0.074412   \n",
              "2  0.085299  0.050680  0.044451 -0.005670 -0.045599 -0.034194 -0.032356   \n",
              "3 -0.089063 -0.044642 -0.011595 -0.036656  0.012191  0.024991 -0.036038   \n",
              "4  0.005383 -0.044642 -0.036385  0.021872  0.003935  0.015596  0.008142   \n",
              "\n",
              "         s4        s5        s6  \n",
              "0 -0.002592  0.019907 -0.017646  \n",
              "1 -0.039493 -0.068332 -0.092204  \n",
              "2 -0.002592  0.002861 -0.025930  \n",
              "3  0.034309  0.022688 -0.009362  \n",
              "4 -0.002592 -0.031988 -0.046641  "
            ],
            "text/html": [
              "\n",
              "  <div id=\"df-cf6297e1-4825-4121-9478-2b197b5e3a03\" class=\"colab-df-container\">\n",
              "    <div>\n",
              "<style scoped>\n",
              "    .dataframe tbody tr th:only-of-type {\n",
              "        vertical-align: middle;\n",
              "    }\n",
              "\n",
              "    .dataframe tbody tr th {\n",
              "        vertical-align: top;\n",
              "    }\n",
              "\n",
              "    .dataframe thead th {\n",
              "        text-align: right;\n",
              "    }\n",
              "</style>\n",
              "<table border=\"1\" class=\"dataframe\">\n",
              "  <thead>\n",
              "    <tr style=\"text-align: right;\">\n",
              "      <th></th>\n",
              "      <th>age</th>\n",
              "      <th>sex</th>\n",
              "      <th>bmi</th>\n",
              "      <th>bp</th>\n",
              "      <th>s1</th>\n",
              "      <th>s2</th>\n",
              "      <th>s3</th>\n",
              "      <th>s4</th>\n",
              "      <th>s5</th>\n",
              "      <th>s6</th>\n",
              "    </tr>\n",
              "  </thead>\n",
              "  <tbody>\n",
              "    <tr>\n",
              "      <th>0</th>\n",
              "      <td>0.038076</td>\n",
              "      <td>0.050680</td>\n",
              "      <td>0.061696</td>\n",
              "      <td>0.021872</td>\n",
              "      <td>-0.044223</td>\n",
              "      <td>-0.034821</td>\n",
              "      <td>-0.043401</td>\n",
              "      <td>-0.002592</td>\n",
              "      <td>0.019907</td>\n",
              "      <td>-0.017646</td>\n",
              "    </tr>\n",
              "    <tr>\n",
              "      <th>1</th>\n",
              "      <td>-0.001882</td>\n",
              "      <td>-0.044642</td>\n",
              "      <td>-0.051474</td>\n",
              "      <td>-0.026328</td>\n",
              "      <td>-0.008449</td>\n",
              "      <td>-0.019163</td>\n",
              "      <td>0.074412</td>\n",
              "      <td>-0.039493</td>\n",
              "      <td>-0.068332</td>\n",
              "      <td>-0.092204</td>\n",
              "    </tr>\n",
              "    <tr>\n",
              "      <th>2</th>\n",
              "      <td>0.085299</td>\n",
              "      <td>0.050680</td>\n",
              "      <td>0.044451</td>\n",
              "      <td>-0.005670</td>\n",
              "      <td>-0.045599</td>\n",
              "      <td>-0.034194</td>\n",
              "      <td>-0.032356</td>\n",
              "      <td>-0.002592</td>\n",
              "      <td>0.002861</td>\n",
              "      <td>-0.025930</td>\n",
              "    </tr>\n",
              "    <tr>\n",
              "      <th>3</th>\n",
              "      <td>-0.089063</td>\n",
              "      <td>-0.044642</td>\n",
              "      <td>-0.011595</td>\n",
              "      <td>-0.036656</td>\n",
              "      <td>0.012191</td>\n",
              "      <td>0.024991</td>\n",
              "      <td>-0.036038</td>\n",
              "      <td>0.034309</td>\n",
              "      <td>0.022688</td>\n",
              "      <td>-0.009362</td>\n",
              "    </tr>\n",
              "    <tr>\n",
              "      <th>4</th>\n",
              "      <td>0.005383</td>\n",
              "      <td>-0.044642</td>\n",
              "      <td>-0.036385</td>\n",
              "      <td>0.021872</td>\n",
              "      <td>0.003935</td>\n",
              "      <td>0.015596</td>\n",
              "      <td>0.008142</td>\n",
              "      <td>-0.002592</td>\n",
              "      <td>-0.031988</td>\n",
              "      <td>-0.046641</td>\n",
              "    </tr>\n",
              "  </tbody>\n",
              "</table>\n",
              "</div>\n",
              "    <div class=\"colab-df-buttons\">\n",
              "\n",
              "  <div class=\"colab-df-container\">\n",
              "    <button class=\"colab-df-convert\" onclick=\"convertToInteractive('df-cf6297e1-4825-4121-9478-2b197b5e3a03')\"\n",
              "            title=\"Convert this dataframe to an interactive table.\"\n",
              "            style=\"display:none;\">\n",
              "\n",
              "  <svg xmlns=\"http://www.w3.org/2000/svg\" height=\"24px\" viewBox=\"0 -960 960 960\">\n",
              "    <path d=\"M120-120v-720h720v720H120Zm60-500h600v-160H180v160Zm220 220h160v-160H400v160Zm0 220h160v-160H400v160ZM180-400h160v-160H180v160Zm440 0h160v-160H620v160ZM180-180h160v-160H180v160Zm440 0h160v-160H620v160Z\"/>\n",
              "  </svg>\n",
              "    </button>\n",
              "\n",
              "  <style>\n",
              "    .colab-df-container {\n",
              "      display:flex;\n",
              "      gap: 12px;\n",
              "    }\n",
              "\n",
              "    .colab-df-convert {\n",
              "      background-color: #E8F0FE;\n",
              "      border: none;\n",
              "      border-radius: 50%;\n",
              "      cursor: pointer;\n",
              "      display: none;\n",
              "      fill: #1967D2;\n",
              "      height: 32px;\n",
              "      padding: 0 0 0 0;\n",
              "      width: 32px;\n",
              "    }\n",
              "\n",
              "    .colab-df-convert:hover {\n",
              "      background-color: #E2EBFA;\n",
              "      box-shadow: 0px 1px 2px rgba(60, 64, 67, 0.3), 0px 1px 3px 1px rgba(60, 64, 67, 0.15);\n",
              "      fill: #174EA6;\n",
              "    }\n",
              "\n",
              "    .colab-df-buttons div {\n",
              "      margin-bottom: 4px;\n",
              "    }\n",
              "\n",
              "    [theme=dark] .colab-df-convert {\n",
              "      background-color: #3B4455;\n",
              "      fill: #D2E3FC;\n",
              "    }\n",
              "\n",
              "    [theme=dark] .colab-df-convert:hover {\n",
              "      background-color: #434B5C;\n",
              "      box-shadow: 0px 1px 3px 1px rgba(0, 0, 0, 0.15);\n",
              "      filter: drop-shadow(0px 1px 2px rgba(0, 0, 0, 0.3));\n",
              "      fill: #FFFFFF;\n",
              "    }\n",
              "  </style>\n",
              "\n",
              "    <script>\n",
              "      const buttonEl =\n",
              "        document.querySelector('#df-cf6297e1-4825-4121-9478-2b197b5e3a03 button.colab-df-convert');\n",
              "      buttonEl.style.display =\n",
              "        google.colab.kernel.accessAllowed ? 'block' : 'none';\n",
              "\n",
              "      async function convertToInteractive(key) {\n",
              "        const element = document.querySelector('#df-cf6297e1-4825-4121-9478-2b197b5e3a03');\n",
              "        const dataTable =\n",
              "          await google.colab.kernel.invokeFunction('convertToInteractive',\n",
              "                                                    [key], {});\n",
              "        if (!dataTable) return;\n",
              "\n",
              "        const docLinkHtml = 'Like what you see? Visit the ' +\n",
              "          '<a target=\"_blank\" href=https://colab.research.google.com/notebooks/data_table.ipynb>data table notebook</a>'\n",
              "          + ' to learn more about interactive tables.';\n",
              "        element.innerHTML = '';\n",
              "        dataTable['output_type'] = 'display_data';\n",
              "        await google.colab.output.renderOutput(dataTable, element);\n",
              "        const docLink = document.createElement('div');\n",
              "        docLink.innerHTML = docLinkHtml;\n",
              "        element.appendChild(docLink);\n",
              "      }\n",
              "    </script>\n",
              "  </div>\n",
              "\n",
              "\n",
              "<div id=\"df-a2a80374-99ba-43a9-9f47-7a798538b33a\">\n",
              "  <button class=\"colab-df-quickchart\" onclick=\"quickchart('df-a2a80374-99ba-43a9-9f47-7a798538b33a')\"\n",
              "            title=\"Suggest charts\"\n",
              "            style=\"display:none;\">\n",
              "\n",
              "<svg xmlns=\"http://www.w3.org/2000/svg\" height=\"24px\"viewBox=\"0 0 24 24\"\n",
              "     width=\"24px\">\n",
              "    <g>\n",
              "        <path d=\"M19 3H5c-1.1 0-2 .9-2 2v14c0 1.1.9 2 2 2h14c1.1 0 2-.9 2-2V5c0-1.1-.9-2-2-2zM9 17H7v-7h2v7zm4 0h-2V7h2v10zm4 0h-2v-4h2v4z\"/>\n",
              "    </g>\n",
              "</svg>\n",
              "  </button>\n",
              "\n",
              "<style>\n",
              "  .colab-df-quickchart {\n",
              "      --bg-color: #E8F0FE;\n",
              "      --fill-color: #1967D2;\n",
              "      --hover-bg-color: #E2EBFA;\n",
              "      --hover-fill-color: #174EA6;\n",
              "      --disabled-fill-color: #AAA;\n",
              "      --disabled-bg-color: #DDD;\n",
              "  }\n",
              "\n",
              "  [theme=dark] .colab-df-quickchart {\n",
              "      --bg-color: #3B4455;\n",
              "      --fill-color: #D2E3FC;\n",
              "      --hover-bg-color: #434B5C;\n",
              "      --hover-fill-color: #FFFFFF;\n",
              "      --disabled-bg-color: #3B4455;\n",
              "      --disabled-fill-color: #666;\n",
              "  }\n",
              "\n",
              "  .colab-df-quickchart {\n",
              "    background-color: var(--bg-color);\n",
              "    border: none;\n",
              "    border-radius: 50%;\n",
              "    cursor: pointer;\n",
              "    display: none;\n",
              "    fill: var(--fill-color);\n",
              "    height: 32px;\n",
              "    padding: 0;\n",
              "    width: 32px;\n",
              "  }\n",
              "\n",
              "  .colab-df-quickchart:hover {\n",
              "    background-color: var(--hover-bg-color);\n",
              "    box-shadow: 0 1px 2px rgba(60, 64, 67, 0.3), 0 1px 3px 1px rgba(60, 64, 67, 0.15);\n",
              "    fill: var(--button-hover-fill-color);\n",
              "  }\n",
              "\n",
              "  .colab-df-quickchart-complete:disabled,\n",
              "  .colab-df-quickchart-complete:disabled:hover {\n",
              "    background-color: var(--disabled-bg-color);\n",
              "    fill: var(--disabled-fill-color);\n",
              "    box-shadow: none;\n",
              "  }\n",
              "\n",
              "  .colab-df-spinner {\n",
              "    border: 2px solid var(--fill-color);\n",
              "    border-color: transparent;\n",
              "    border-bottom-color: var(--fill-color);\n",
              "    animation:\n",
              "      spin 1s steps(1) infinite;\n",
              "  }\n",
              "\n",
              "  @keyframes spin {\n",
              "    0% {\n",
              "      border-color: transparent;\n",
              "      border-bottom-color: var(--fill-color);\n",
              "      border-left-color: var(--fill-color);\n",
              "    }\n",
              "    20% {\n",
              "      border-color: transparent;\n",
              "      border-left-color: var(--fill-color);\n",
              "      border-top-color: var(--fill-color);\n",
              "    }\n",
              "    30% {\n",
              "      border-color: transparent;\n",
              "      border-left-color: var(--fill-color);\n",
              "      border-top-color: var(--fill-color);\n",
              "      border-right-color: var(--fill-color);\n",
              "    }\n",
              "    40% {\n",
              "      border-color: transparent;\n",
              "      border-right-color: var(--fill-color);\n",
              "      border-top-color: var(--fill-color);\n",
              "    }\n",
              "    60% {\n",
              "      border-color: transparent;\n",
              "      border-right-color: var(--fill-color);\n",
              "    }\n",
              "    80% {\n",
              "      border-color: transparent;\n",
              "      border-right-color: var(--fill-color);\n",
              "      border-bottom-color: var(--fill-color);\n",
              "    }\n",
              "    90% {\n",
              "      border-color: transparent;\n",
              "      border-bottom-color: var(--fill-color);\n",
              "    }\n",
              "  }\n",
              "</style>\n",
              "\n",
              "  <script>\n",
              "    async function quickchart(key) {\n",
              "      const quickchartButtonEl =\n",
              "        document.querySelector('#' + key + ' button');\n",
              "      quickchartButtonEl.disabled = true;  // To prevent multiple clicks.\n",
              "      quickchartButtonEl.classList.add('colab-df-spinner');\n",
              "      try {\n",
              "        const charts = await google.colab.kernel.invokeFunction(\n",
              "            'suggestCharts', [key], {});\n",
              "      } catch (error) {\n",
              "        console.error('Error during call to suggestCharts:', error);\n",
              "      }\n",
              "      quickchartButtonEl.classList.remove('colab-df-spinner');\n",
              "      quickchartButtonEl.classList.add('colab-df-quickchart-complete');\n",
              "    }\n",
              "    (() => {\n",
              "      let quickchartButtonEl =\n",
              "        document.querySelector('#df-a2a80374-99ba-43a9-9f47-7a798538b33a button');\n",
              "      quickchartButtonEl.style.display =\n",
              "        google.colab.kernel.accessAllowed ? 'block' : 'none';\n",
              "    })();\n",
              "  </script>\n",
              "</div>\n",
              "    </div>\n",
              "  </div>\n"
            ],
            "application/vnd.google.colaboratory.intrinsic+json": {
              "type": "dataframe",
              "variable_name": "X",
              "summary": "{\n  \"name\": \"X\",\n  \"rows\": 442,\n  \"fields\": [\n    {\n      \"column\": \"age\",\n      \"properties\": {\n        \"dtype\": \"number\",\n        \"std\": 0.047619047619047644,\n        \"min\": -0.1072256316073538,\n        \"max\": 0.11072667545381144,\n        \"num_unique_values\": 58,\n        \"samples\": [\n          0.038075906433423026,\n          -0.09269547780327612,\n          0.01991321417832592\n        ],\n        \"semantic_type\": \"\",\n        \"description\": \"\"\n      }\n    },\n    {\n      \"column\": \"sex\",\n      \"properties\": {\n        \"dtype\": \"number\",\n        \"std\": 0.047619047619047665,\n        \"min\": -0.044641636506989144,\n        \"max\": 0.05068011873981862,\n        \"num_unique_values\": 2,\n        \"samples\": [\n          -0.044641636506989144,\n          0.05068011873981862\n        ],\n        \"semantic_type\": \"\",\n        \"description\": \"\"\n      }\n    },\n    {\n      \"column\": \"bmi\",\n      \"properties\": {\n        \"dtype\": \"number\",\n        \"std\": 0.047619047619047616,\n        \"min\": -0.09027529589850945,\n        \"max\": 0.17055522598064407,\n        \"num_unique_values\": 163,\n        \"samples\": [\n          0.008883414898524095,\n          -0.05470749746044306\n        ],\n        \"semantic_type\": \"\",\n        \"description\": \"\"\n      }\n    },\n    {\n      \"column\": \"bp\",\n      \"properties\": {\n        \"dtype\": \"number\",\n        \"std\": 0.047619047619047596,\n        \"min\": -0.11239880254408448,\n        \"max\": 0.13204361674121307,\n        \"num_unique_values\": 100,\n        \"samples\": [\n          0.03333707926361473,\n          0.02531523648988596\n        ],\n        \"semantic_type\": \"\",\n        \"description\": \"\"\n      }\n    },\n    {\n      \"column\": \"s1\",\n      \"properties\": {\n        \"dtype\": \"number\",\n        \"std\": 0.04761904761904759,\n        \"min\": -0.12678066991651324,\n        \"max\": 0.15391371315651542,\n        \"num_unique_values\": 141,\n        \"samples\": [\n          0.041085578784023497,\n          0.08374011738825825\n        ],\n        \"semantic_type\": \"\",\n        \"description\": \"\"\n      }\n    },\n    {\n      \"column\": \"s2\",\n      \"properties\": {\n        \"dtype\": \"number\",\n        \"std\": 0.047619047619047644,\n        \"min\": -0.11561306597939897,\n        \"max\": 0.19878798965729408,\n        \"num_unique_values\": 302,\n        \"samples\": [\n          0.07415490186505921,\n          0.07008397186179521\n        ],\n        \"semantic_type\": \"\",\n        \"description\": \"\"\n      }\n    },\n    {\n      \"column\": \"s3\",\n      \"properties\": {\n        \"dtype\": \"number\",\n        \"std\": 0.047619047619047596,\n        \"min\": -0.10230705051741597,\n        \"max\": 0.18117906039727852,\n        \"num_unique_values\": 63,\n        \"samples\": [\n          0.09281975309919192,\n          0.15908923357275687\n        ],\n        \"semantic_type\": \"\",\n        \"description\": \"\"\n      }\n    },\n    {\n      \"column\": \"s4\",\n      \"properties\": {\n        \"dtype\": \"number\",\n        \"std\": 0.047619047619047616,\n        \"min\": -0.0763945037500033,\n        \"max\": 0.18523444326019867,\n        \"num_unique_values\": 66,\n        \"samples\": [\n          0.08670845052151895,\n          -0.024732934523729287\n        ],\n        \"semantic_type\": \"\",\n        \"description\": \"\"\n      }\n    },\n    {\n      \"column\": \"s5\",\n      \"properties\": {\n        \"dtype\": \"number\",\n        \"std\": 0.047619047619047616,\n        \"min\": -0.12609712083330468,\n        \"max\": 0.13359728192191356,\n        \"num_unique_values\": 184,\n        \"samples\": [\n          -0.07213275338232743,\n          -0.021395309255276825\n        ],\n        \"semantic_type\": \"\",\n        \"description\": \"\"\n      }\n    },\n    {\n      \"column\": \"s6\",\n      \"properties\": {\n        \"dtype\": \"number\",\n        \"std\": 0.047619047619047644,\n        \"min\": -0.13776722569000302,\n        \"max\": 0.13561183068907107,\n        \"num_unique_values\": 56,\n        \"samples\": [\n          -0.01764612515980379,\n          -0.09634615654165846\n        ],\n        \"semantic_type\": \"\",\n        \"description\": \"\"\n      }\n    }\n  ]\n}"
            }
          },
          "metadata": {},
          "execution_count": 38
        }
      ]
    },
    {
      "cell_type": "code",
      "source": [
        "random.seed(42)\n",
        "N, M = X.shape\n",
        "cols_idx = random.sample(X.columns.to_list(), round(0.5 * M))\n",
        "rows_idx = random.sample(range(N), round(0.5 * N))"
      ],
      "metadata": {
        "id": "yMF7Kg_fNm5y"
      },
      "execution_count": null,
      "outputs": []
    },
    {
      "cell_type": "code",
      "source": [
        "X_, y_ = make_regression(n_samples=50, n_features=20, n_informative=2, noise=5, random_state=42)\n",
        "X_ = pd.DataFrame(X_)\n",
        "y_ = pd.Series(y_)\n",
        "X_.columns = [f'col_{i}' for i in X_.columns]"
      ],
      "metadata": {
        "id": "nUadN56MPyHX"
      },
      "execution_count": null,
      "outputs": []
    },
    {
      "cell_type": "code",
      "source": [
        "forest_model = MyForestReg(oob_score='mae')"
      ],
      "metadata": {
        "id": "j32x1fFQQ_28"
      },
      "execution_count": null,
      "outputs": []
    },
    {
      "cell_type": "code",
      "source": [
        "forest_model.fit(X_, y_)"
      ],
      "metadata": {
        "id": "FFB6OJCnROC0"
      },
      "execution_count": null,
      "outputs": []
    },
    {
      "cell_type": "code",
      "source": [
        "forest_model.oob_score_"
      ],
      "metadata": {
        "colab": {
          "base_uri": "https://localhost:8080/"
        },
        "id": "OnnF4JjqA-bL",
        "outputId": "75f8ee66-e98e-4770-e69a-cc83cdd4cb93"
      },
      "execution_count": null,
      "outputs": [
        {
          "output_type": "execute_result",
          "data": {
            "text/plain": [
              "15.055850455942899"
            ]
          },
          "metadata": {},
          "execution_count": 15
        }
      ]
    },
    {
      "cell_type": "code",
      "source": [
        "forest_model.leafs_cnt"
      ],
      "metadata": {
        "colab": {
          "base_uri": "https://localhost:8080/"
        },
        "id": "70rave_oRQ22",
        "outputId": "3e956b98-5657-4aae-862d-9780c4103420"
      },
      "execution_count": null,
      "outputs": [
        {
          "output_type": "execute_result",
          "data": {
            "text/plain": [
              "158"
            ]
          },
          "metadata": {},
          "execution_count": 13
        }
      ]
    },
    {
      "cell_type": "code",
      "source": [
        "forest_model.predict(X_)"
      ],
      "metadata": {
        "colab": {
          "base_uri": "https://localhost:8080/"
        },
        "id": "mVa7p-rARXUf",
        "outputId": "45e3aeb5-ce14-43df-e1ab-06ed46860386"
      },
      "execution_count": null,
      "outputs": [
        {
          "output_type": "stream",
          "name": "stdout",
          "text": [
            "      tree_0     tree_1    tree_2     tree_3     tree_4     tree_5\n",
            "0   0.576745  10.756559 -0.000144  12.702343   0.936047   4.381704\n",
            "1 -10.682957 -17.163023 -0.000144  -7.507513   0.936047   4.381704\n",
            "2 -24.215596 -17.163023 -0.000144  -7.507513 -29.017218 -30.892871\n",
            "3 -10.682957 -17.163023 -0.000144  -7.507513 -29.017218  43.985819\n",
            "4 -10.682957 -17.163023 -0.000144  -7.507513   0.936047   4.381704\n"
          ]
        },
        {
          "output_type": "execute_result",
          "data": {
            "text/plain": [
              "tree_0    4.308166\n",
              "tree_1    1.491881\n",
              "tree_2   -4.932968\n",
              "tree_3    1.706597\n",
              "tree_4    2.069344\n",
              "tree_5    4.848364\n",
              "dtype: float64"
            ]
          },
          "metadata": {},
          "execution_count": 82
        }
      ]
    },
    {
      "cell_type": "code",
      "source": [
        "d = {'1': 0, '2': 1}\n",
        "for key, value in d.items():\n",
        "    print(f'{key}={value}')"
      ],
      "metadata": {
        "colab": {
          "base_uri": "https://localhost:8080/"
        },
        "id": "SzFYoPf0TwOA",
        "outputId": "6d88b5ac-52f6-40e6-a11b-0fd50883f645"
      },
      "execution_count": null,
      "outputs": [
        {
          "output_type": "stream",
          "name": "stdout",
          "text": [
            "1=0\n",
            "2=1\n"
          ]
        }
      ]
    },
    {
      "cell_type": "code",
      "source": [
        "1 + False"
      ],
      "metadata": {
        "colab": {
          "base_uri": "https://localhost:8080/"
        },
        "id": "rC-Jx53pawSV",
        "outputId": "f6ac9dfd-97f3-4b7e-d734-eeafc51f365c"
      },
      "execution_count": null,
      "outputs": [
        {
          "output_type": "execute_result",
          "data": {
            "text/plain": [
              "1"
            ]
          },
          "metadata": {},
          "execution_count": 7
        }
      ]
    },
    {
      "cell_type": "code",
      "source": [
        "False + False\n"
      ],
      "metadata": {
        "colab": {
          "base_uri": "https://localhost:8080/"
        },
        "id": "Q1IPiNlW9CTn",
        "outputId": "115b02a7-c2af-4b65-8870-69d1fcb1553b"
      },
      "execution_count": null,
      "outputs": [
        {
          "output_type": "execute_result",
          "data": {
            "text/plain": [
              "0"
            ]
          },
          "metadata": {},
          "execution_count": 8
        }
      ]
    },
    {
      "cell_type": "code",
      "source": [],
      "metadata": {
        "id": "dZ2o2g3S-4vC"
      },
      "execution_count": null,
      "outputs": []
    }
  ]
}