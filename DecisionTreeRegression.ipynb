{
  "nbformat": 4,
  "nbformat_minor": 0,
  "metadata": {
    "colab": {
      "provenance": [],
      "authorship_tag": "ABX9TyNlF0Trn3vvvrR9mAaHv8ee",
      "include_colab_link": true
    },
    "kernelspec": {
      "name": "python3",
      "display_name": "Python 3"
    },
    "language_info": {
      "name": "python"
    }
  },
  "cells": [
    {
      "cell_type": "markdown",
      "metadata": {
        "id": "view-in-github",
        "colab_type": "text"
      },
      "source": [
        "<a href=\"https://colab.research.google.com/github/g40rgeLE/ml_from_scratch/blob/main/DecisionTreeRegression.ipynb\" target=\"_parent\"><img src=\"https://colab.research.google.com/assets/colab-badge.svg\" alt=\"Open In Colab\"/></a>"
      ]
    },
    {
      "cell_type": "code",
      "source": [
        "import numpy as np\n",
        "import pandas as pd\n",
        "from sklearn.datasets import make_regression"
      ],
      "metadata": {
        "id": "xDnatrGEbChV"
      },
      "execution_count": null,
      "outputs": []
    },
    {
      "cell_type": "code",
      "execution_count": null,
      "metadata": {
        "id": "pK3RIz_uaaQE"
      },
      "outputs": [],
      "source": [
        "class Node:\n",
        "    def __init__(\n",
        "            self,\n",
        "            col: str = None,\n",
        "            treshold: float = None,\n",
        "            left = None,\n",
        "            right = None,\n",
        "            gain = None,\n",
        "            value: float = None\n",
        "            ):\n",
        "        #decision nodes\n",
        "        self.col = col\n",
        "        self.treshold = treshold\n",
        "        self.left = left\n",
        "        self.right = right\n",
        "        self.gain = gain\n",
        "\n",
        "        #leaves nodes\n",
        "        self.value = value\n",
        "\n",
        "class MyTreeReg:\n",
        "    def __init__(\n",
        "            self,\n",
        "            max_depth: int = 5,\n",
        "            min_samples_split: int = 2,\n",
        "            max_leafs = 20,\n",
        "            bins: int = None\n",
        "            ):\n",
        "        self.max_depth = max_depth\n",
        "        self.min_samples_split = min_samples_split\n",
        "        self.max_leafs = max_leafs\n",
        "        self.leafs_cnt = 0\n",
        "        self.bins = bins\n",
        "\n",
        "        self.fi = dict()\n",
        "        self.root = None\n",
        "        self.sum_leafs_val = 0\n",
        "\n",
        "    def __str__(self):\n",
        "        params = [f'{key}={value}' for key, value in self.__dict__.items()]\n",
        "        return 'MyTreeReg class: ' + ', '.join(params)\n",
        "\n",
        "    def __repr__(self):\n",
        "        params = [f'{key}={value}' for key, value in self.__dict__.items()]\n",
        "        return 'MyTreeReg class: ' + ', '.join(params)\n",
        "\n",
        "    def __mse(self, vec: pd.Series):\n",
        "        return 1/vec.shape[0] * (vec - vec.mean()).pow(2).sum()\n",
        "\n",
        "    def __mse_gain(self, p: pd.Series, left_sub: pd.Series, right_sub: pd.Series):\n",
        "        gain = 0\n",
        "        if p.shape[0]:\n",
        "            gain = self.__mse(p)\n",
        "        else:\n",
        "            return None\n",
        "\n",
        "        if left_sub.shape[0]:\n",
        "            gain -= left_sub.shape[0] / p.shape[0] * self.__mse(left_sub)\n",
        "\n",
        "        if right_sub.shape[0]:\n",
        "            gain -= right_sub.shape[0] / p.shape[0] * self.__mse(right_sub)\n",
        "\n",
        "        return gain\n",
        "\n",
        "    def get_best_split(self, X: pd.DataFrame, y: pd.Series):\n",
        "        best_col_name, best_treshold, best_gain = None, None, float('-inf')\n",
        "\n",
        "        for col in X.columns:\n",
        "            values = X[col]\n",
        "            col_np = np.sort(np.unique(values))\n",
        "            tresholds = None\n",
        "            if self.bins:\n",
        "                tresholds = self.tresholds[col]\n",
        "            else:\n",
        "                tresholds = .5 * (col_np[1:] + col_np[:-1])\n",
        "\n",
        "            for treshold in tresholds:\n",
        "                left_y = y[values <= treshold]\n",
        "                right_y = y[values > treshold]\n",
        "                gain = self.__mse_gain(y, left_y, right_y)\n",
        "\n",
        "                if gain and gain > best_gain:\n",
        "                    best_col_name = col\n",
        "                    best_treshold = treshold\n",
        "                    best_gain = gain\n",
        "\n",
        "        return best_col_name, best_treshold, best_gain\n",
        "\n",
        "    def print_tree(self, tree: Node = None, indent = '  '):\n",
        "        if tree is None:\n",
        "            tree = self.root\n",
        "\n",
        "        if tree.value is not None:\n",
        "            print(tree.value)\n",
        "        else:\n",
        "            print(f'{tree.col} > {tree.treshold} ? gain = {tree.gain}')\n",
        "            print(\"%sleft:\" % (indent), end=\"\")\n",
        "            self.print_tree(tree.left, indent + indent)\n",
        "            print(\"%sright:\" % (indent), end=\"\")\n",
        "            self.print_tree(tree.right, indent + indent)\n",
        "\n",
        "\n",
        "    def __conditions(self, depth, num_samples):\n",
        "        return (depth < self.max_depth) and \\\n",
        "            (num_samples >= self.min_samples_split) and \\\n",
        "            (self.leafs_cnt < self.max_leafs)\n",
        "\n",
        "\n",
        "    def __build_tree(self, X: pd.DataFrame, y: pd.Series, cur_depth = 0):\n",
        "\n",
        "        if self.__conditions(cur_depth, X.shape[0]):\n",
        "            self.leafs_cnt += 2 if cur_depth == 0 else 1\n",
        "            col, treshold, gain = self.get_best_split(X, y)\n",
        "            self.fi[col] += X.shape[0] / self.train_size[0] * gain\n",
        "\n",
        "            left_idx = (X[col] <= treshold)\n",
        "            right_idx = (X[col] > treshold)\n",
        "            X_left, y_left = X[left_idx], y[left_idx]\n",
        "            X_right, y_right = X[right_idx], y[right_idx]\n",
        "\n",
        "            left_sub = self.__build_tree(X_left, y_left, cur_depth + 1)\n",
        "            right_sub = self.__build_tree(X_right, y_right, cur_depth + 1)\n",
        "            return Node(col, treshold, left_sub, right_sub, gain)\n",
        "\n",
        "        leaf_val = float(y.mean())\n",
        "        self.sum_leafs_val += leaf_val\n",
        "        return Node(value=leaf_val)\n",
        "\n",
        "    def __tresholds_preprocessing(self, col: pd.Series):\n",
        "        col_np = np.sort(np.unique(col))\n",
        "        tresholds = .5 * (col_np[1:] + col_np[:-1])\n",
        "        if not(tresholds.shape[0] <= self.bins - 1):\n",
        "            _, tresholds = np.histogram(col, self.bins)\n",
        "            tresholds = tresholds[1:-1]\n",
        "        return tresholds\n",
        "\n",
        "    def fit(self, X: pd.DataFrame, y: pd.Series):\n",
        "        self.train_size = X.shape\n",
        "        self.fi = dict(zip(X.columns, [0]*X.shape[1]))\n",
        "\n",
        "        if self.bins:\n",
        "            self.tresholds = X.apply(self.__tresholds_preprocessing, axis=0)\n",
        "        self.root = self.__build_tree(X, y)\n",
        "\n",
        "    def __predict_one(self, row: pd.Series, tree: Node = None):\n",
        "        if not tree:\n",
        "            tree = self.root\n",
        "\n",
        "        if tree.value is not None:\n",
        "            return tree.value\n",
        "\n",
        "        if row[tree.col] <= tree.treshold:\n",
        "            return self.__predict_one(row, tree.left)\n",
        "        else:\n",
        "            return self.__predict_one(row, tree.right)\n",
        "\n",
        "    def predict(self, X: pd.DataFrame):\n",
        "        return X.apply(self.__predict_one, axis=1)"
      ]
    },
    {
      "cell_type": "code",
      "source": [
        "from sklearn.datasets import load_diabetes\n",
        "\n",
        "data = load_diabetes(as_frame=True)\n",
        "X, y = data['data'], data['target']"
      ],
      "metadata": {
        "id": "o7Cq3Ml_wS6R"
      },
      "execution_count": null,
      "outputs": []
    },
    {
      "cell_type": "code",
      "source": [
        "reg_model = MyTreeReg(15, 35, 30, 6)"
      ],
      "metadata": {
        "id": "4-kvM1BHGhiV"
      },
      "execution_count": null,
      "outputs": []
    },
    {
      "cell_type": "code",
      "source": [
        "reg_model.fit(X, y)"
      ],
      "metadata": {
        "id": "yWTGsHt1CEzF"
      },
      "execution_count": null,
      "outputs": []
    },
    {
      "cell_type": "code",
      "source": [
        "reg_model.fi"
      ],
      "metadata": {
        "colab": {
          "base_uri": "https://localhost:8080/"
        },
        "id": "wreR4lW4J9nq",
        "outputId": "66f9dc21-36e2-4775-c630-0c7860ba94b4"
      },
      "execution_count": null,
      "outputs": [
        {
          "output_type": "execute_result",
          "data": {
            "text/plain": [
              "{'age': 74.97049956944646,\n",
              " 'sex': 5.583701438995601,\n",
              " 'bmi': 882.3414868834335,\n",
              " 'bp': 67.43169630149379,\n",
              " 's1': 83.06032898749164,\n",
              " 's2': 92.20502466229262,\n",
              " 's3': 69.18862555028275,\n",
              " 's4': 0,\n",
              " 's5': 1742.4372819825855,\n",
              " 's6': 270.56766141524395}"
            ]
          },
          "metadata": {},
          "execution_count": 122
        }
      ]
    },
    {
      "cell_type": "code",
      "source": [
        "reg_model.leafs_cnt"
      ],
      "metadata": {
        "colab": {
          "base_uri": "https://localhost:8080/"
        },
        "id": "0BnxZxumCJLJ",
        "outputId": "d0c1164b-24f4-4bc2-edd3-e235522ebfda"
      },
      "execution_count": null,
      "outputs": [
        {
          "output_type": "execute_result",
          "data": {
            "text/plain": [
              "30"
            ]
          },
          "metadata": {},
          "execution_count": 110
        }
      ]
    },
    {
      "cell_type": "code",
      "source": [
        "reg_model.sum_leafs_val"
      ],
      "metadata": {
        "colab": {
          "base_uri": "https://localhost:8080/"
        },
        "id": "dsGySAmEGzSf",
        "outputId": "35938dd7-ad24-4358-af43-ca03a928c739"
      },
      "execution_count": null,
      "outputs": [
        {
          "output_type": "execute_result",
          "data": {
            "text/plain": [
              "4389.213406654218"
            ]
          },
          "metadata": {},
          "execution_count": 111
        }
      ]
    },
    {
      "cell_type": "code",
      "source": [
        "X_sint, y_sint = make_regression(n_samples=50, n_features=20, n_informative=2, noise=5)\n",
        "X_sint = pd.DataFrame(X_sint)\n",
        "y_sint = pd.Series(y_sint)\n",
        "X_sint.columns = [f'col_{i}' for i in X_sint.columns]"
      ],
      "metadata": {
        "id": "4m_S9am40ADd"
      },
      "execution_count": null,
      "outputs": []
    },
    {
      "cell_type": "code",
      "source": [
        "d = dict\n",
        "keys = X.columns\n",
        "dictionary = dict(zip(X.columns, [0]*X.shape[1]))\n",
        "print(dictionary)"
      ],
      "metadata": {
        "colab": {
          "base_uri": "https://localhost:8080/"
        },
        "id": "xPkFs3hGCOFl",
        "outputId": "806fc5f5-7173-4e17-df61-3788ea00f82b"
      },
      "execution_count": null,
      "outputs": [
        {
          "output_type": "stream",
          "name": "stdout",
          "text": [
            "{'age': 0, 'sex': 0, 'bmi': 0, 'bp': 0, 's1': 0, 's2': 0, 's3': 0, 's4': 0, 's5': 0, 's6': 0}\n"
          ]
        }
      ]
    },
    {
      "cell_type": "code",
      "source": [],
      "metadata": {
        "id": "NvZtjZceJDUc"
      },
      "execution_count": null,
      "outputs": []
    }
  ]
}